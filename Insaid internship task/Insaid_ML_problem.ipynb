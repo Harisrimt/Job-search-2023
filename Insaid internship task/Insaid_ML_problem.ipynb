{
 "cells": [
  {
   "cell_type": "code",
   "execution_count": 1,
   "id": "c5228941",
   "metadata": {},
   "outputs": [],
   "source": [
    "import numpy as np\n",
    "import pandas as pd\n",
    "import matplotlib.pyplot as plt\n",
    "import seaborn as sns\n",
    "from sklearn.model_selection import train_test_split\n",
    "from scipy import stats"
   ]
  },
  {
   "cell_type": "code",
   "execution_count": 2,
   "id": "0a1dec93",
   "metadata": {},
   "outputs": [],
   "source": [
    "from xgboost import XGBClassifier\n",
    "from sklearn.metrics import roc_auc_score as ras\n",
    "from sklearn.linear_model import LogisticRegression\n",
    "from sklearn.svm import SVC\n",
    "from sklearn.ensemble import RandomForestClassifier\n",
    "from sklearn import metrics"
   ]
  },
  {
   "cell_type": "code",
   "execution_count": 3,
   "id": "af8b3384",
   "metadata": {},
   "outputs": [],
   "source": [
    "df_f_raw = pd.read_csv(\"Fraud.csv\")"
   ]
  },
  {
   "cell_type": "code",
   "execution_count": 4,
   "id": "854e6d56",
   "metadata": {},
   "outputs": [
    {
     "data": {
      "text/html": [
       "<div>\n",
       "<style scoped>\n",
       "    .dataframe tbody tr th:only-of-type {\n",
       "        vertical-align: middle;\n",
       "    }\n",
       "\n",
       "    .dataframe tbody tr th {\n",
       "        vertical-align: top;\n",
       "    }\n",
       "\n",
       "    .dataframe thead th {\n",
       "        text-align: right;\n",
       "    }\n",
       "</style>\n",
       "<table border=\"1\" class=\"dataframe\">\n",
       "  <thead>\n",
       "    <tr style=\"text-align: right;\">\n",
       "      <th></th>\n",
       "      <th>step</th>\n",
       "      <th>type</th>\n",
       "      <th>amount</th>\n",
       "      <th>nameOrig</th>\n",
       "      <th>oldbalanceOrg</th>\n",
       "      <th>newbalanceOrig</th>\n",
       "      <th>nameDest</th>\n",
       "      <th>oldbalanceDest</th>\n",
       "      <th>newbalanceDest</th>\n",
       "      <th>isFraud</th>\n",
       "      <th>isFlaggedFraud</th>\n",
       "    </tr>\n",
       "  </thead>\n",
       "  <tbody>\n",
       "    <tr>\n",
       "      <th>0</th>\n",
       "      <td>1</td>\n",
       "      <td>PAYMENT</td>\n",
       "      <td>9839.64</td>\n",
       "      <td>C1231006815</td>\n",
       "      <td>170136.0</td>\n",
       "      <td>160296.36</td>\n",
       "      <td>M1979787155</td>\n",
       "      <td>0.0</td>\n",
       "      <td>0.0</td>\n",
       "      <td>0</td>\n",
       "      <td>0</td>\n",
       "    </tr>\n",
       "    <tr>\n",
       "      <th>1</th>\n",
       "      <td>1</td>\n",
       "      <td>PAYMENT</td>\n",
       "      <td>1864.28</td>\n",
       "      <td>C1666544295</td>\n",
       "      <td>21249.0</td>\n",
       "      <td>19384.72</td>\n",
       "      <td>M2044282225</td>\n",
       "      <td>0.0</td>\n",
       "      <td>0.0</td>\n",
       "      <td>0</td>\n",
       "      <td>0</td>\n",
       "    </tr>\n",
       "  </tbody>\n",
       "</table>\n",
       "</div>"
      ],
      "text/plain": [
       "   step     type   amount     nameOrig  oldbalanceOrg  newbalanceOrig  \\\n",
       "0     1  PAYMENT  9839.64  C1231006815       170136.0       160296.36   \n",
       "1     1  PAYMENT  1864.28  C1666544295        21249.0        19384.72   \n",
       "\n",
       "      nameDest  oldbalanceDest  newbalanceDest  isFraud  isFlaggedFraud  \n",
       "0  M1979787155             0.0             0.0        0               0  \n",
       "1  M2044282225             0.0             0.0        0               0  "
      ]
     },
     "execution_count": 4,
     "metadata": {},
     "output_type": "execute_result"
    }
   ],
   "source": [
    "df_f_raw.head(2)"
   ]
  },
  {
   "cell_type": "code",
   "execution_count": 5,
   "id": "7d960a1c",
   "metadata": {},
   "outputs": [
    {
     "data": {
      "text/plain": [
       "step              0\n",
       "type              0\n",
       "amount            0\n",
       "nameOrig          0\n",
       "oldbalanceOrg     0\n",
       "newbalanceOrig    0\n",
       "nameDest          0\n",
       "oldbalanceDest    0\n",
       "newbalanceDest    0\n",
       "isFraud           0\n",
       "isFlaggedFraud    0\n",
       "dtype: int64"
      ]
     },
     "execution_count": 5,
     "metadata": {},
     "output_type": "execute_result"
    }
   ],
   "source": [
    "df_f_raw.isnull().sum()"
   ]
  },
  {
   "cell_type": "code",
   "execution_count": 6,
   "id": "e4db5a13",
   "metadata": {},
   "outputs": [],
   "source": [
    "# df_f_raw.info()"
   ]
  },
  {
   "cell_type": "code",
   "execution_count": 7,
   "id": "5b2babc4",
   "metadata": {},
   "outputs": [
    {
     "data": {
      "text/plain": [
       "(array([0, 1]), array([0, 1]))"
      ]
     },
     "execution_count": 7,
     "metadata": {},
     "output_type": "execute_result"
    }
   ],
   "source": [
    "df_f_raw.isFraud.unique(), df_f_raw.isFlaggedFraud.unique()"
   ]
  },
  {
   "cell_type": "markdown",
   "id": "26f3c1e5",
   "metadata": {},
   "source": [
    "###### Check for duplicate entries in the dataframe"
   ]
  },
  {
   "cell_type": "code",
   "execution_count": 8,
   "id": "a7e42803",
   "metadata": {},
   "outputs": [
    {
     "data": {
      "text/html": [
       "<div>\n",
       "<style scoped>\n",
       "    .dataframe tbody tr th:only-of-type {\n",
       "        vertical-align: middle;\n",
       "    }\n",
       "\n",
       "    .dataframe tbody tr th {\n",
       "        vertical-align: top;\n",
       "    }\n",
       "\n",
       "    .dataframe thead th {\n",
       "        text-align: right;\n",
       "    }\n",
       "</style>\n",
       "<table border=\"1\" class=\"dataframe\">\n",
       "  <thead>\n",
       "    <tr style=\"text-align: right;\">\n",
       "      <th></th>\n",
       "      <th>step</th>\n",
       "      <th>type</th>\n",
       "      <th>amount</th>\n",
       "      <th>nameOrig</th>\n",
       "      <th>oldbalanceOrg</th>\n",
       "      <th>newbalanceOrig</th>\n",
       "      <th>nameDest</th>\n",
       "      <th>oldbalanceDest</th>\n",
       "      <th>newbalanceDest</th>\n",
       "      <th>isFraud</th>\n",
       "      <th>isFlaggedFraud</th>\n",
       "    </tr>\n",
       "  </thead>\n",
       "  <tbody>\n",
       "  </tbody>\n",
       "</table>\n",
       "</div>"
      ],
      "text/plain": [
       "Empty DataFrame\n",
       "Columns: [step, type, amount, nameOrig, oldbalanceOrg, newbalanceOrig, nameDest, oldbalanceDest, newbalanceDest, isFraud, isFlaggedFraud]\n",
       "Index: []"
      ]
     },
     "execution_count": 8,
     "metadata": {},
     "output_type": "execute_result"
    }
   ],
   "source": [
    "df_f_raw[df_f_raw.duplicated()]"
   ]
  },
  {
   "cell_type": "markdown",
   "id": "b8da096b",
   "metadata": {},
   "source": [
    "###### Drop the irrelevant features like nameDest and nameOrig"
   ]
  },
  {
   "cell_type": "code",
   "execution_count": 9,
   "id": "c6b23d46",
   "metadata": {},
   "outputs": [
    {
     "data": {
      "text/html": [
       "<div>\n",
       "<style scoped>\n",
       "    .dataframe tbody tr th:only-of-type {\n",
       "        vertical-align: middle;\n",
       "    }\n",
       "\n",
       "    .dataframe tbody tr th {\n",
       "        vertical-align: top;\n",
       "    }\n",
       "\n",
       "    .dataframe thead th {\n",
       "        text-align: right;\n",
       "    }\n",
       "</style>\n",
       "<table border=\"1\" class=\"dataframe\">\n",
       "  <thead>\n",
       "    <tr style=\"text-align: right;\">\n",
       "      <th></th>\n",
       "      <th>step</th>\n",
       "      <th>type</th>\n",
       "      <th>amount</th>\n",
       "      <th>oldbalanceOrg</th>\n",
       "      <th>newbalanceOrig</th>\n",
       "      <th>oldbalanceDest</th>\n",
       "      <th>newbalanceDest</th>\n",
       "      <th>isFraud</th>\n",
       "      <th>isFlaggedFraud</th>\n",
       "    </tr>\n",
       "  </thead>\n",
       "  <tbody>\n",
       "    <tr>\n",
       "      <th>0</th>\n",
       "      <td>1</td>\n",
       "      <td>PAYMENT</td>\n",
       "      <td>9839.64</td>\n",
       "      <td>170136.0</td>\n",
       "      <td>160296.36</td>\n",
       "      <td>0.0</td>\n",
       "      <td>0.0</td>\n",
       "      <td>0</td>\n",
       "      <td>0</td>\n",
       "    </tr>\n",
       "  </tbody>\n",
       "</table>\n",
       "</div>"
      ],
      "text/plain": [
       "   step     type   amount  oldbalanceOrg  newbalanceOrig  oldbalanceDest  \\\n",
       "0     1  PAYMENT  9839.64       170136.0       160296.36             0.0   \n",
       "\n",
       "   newbalanceDest  isFraud  isFlaggedFraud  \n",
       "0             0.0        0               0  "
      ]
     },
     "execution_count": 9,
     "metadata": {},
     "output_type": "execute_result"
    }
   ],
   "source": [
    "df_f_1 = df_f_raw.drop([\"nameDest\", \"nameOrig\"], axis = 1)\n",
    "df_f_1.head(1)"
   ]
  },
  {
   "cell_type": "code",
   "execution_count": 10,
   "id": "f97636fc",
   "metadata": {},
   "outputs": [
    {
     "data": {
      "text/plain": [
       "array(['PAYMENT', 'TRANSFER', 'CASH_OUT', 'DEBIT', 'CASH_IN'],\n",
       "      dtype=object)"
      ]
     },
     "execution_count": 10,
     "metadata": {},
     "output_type": "execute_result"
    }
   ],
   "source": [
    "df_f_raw[\"type\"].unique()"
   ]
  },
  {
   "cell_type": "code",
   "execution_count": 11,
   "id": "e3f3bd7c",
   "metadata": {},
   "outputs": [
    {
     "data": {
      "text/html": [
       "<div>\n",
       "<style scoped>\n",
       "    .dataframe tbody tr th:only-of-type {\n",
       "        vertical-align: middle;\n",
       "    }\n",
       "\n",
       "    .dataframe tbody tr th {\n",
       "        vertical-align: top;\n",
       "    }\n",
       "\n",
       "    .dataframe thead th {\n",
       "        text-align: right;\n",
       "    }\n",
       "</style>\n",
       "<table border=\"1\" class=\"dataframe\">\n",
       "  <thead>\n",
       "    <tr style=\"text-align: right;\">\n",
       "      <th></th>\n",
       "      <th>step</th>\n",
       "      <th>amount</th>\n",
       "      <th>oldbalanceOrg</th>\n",
       "      <th>newbalanceOrig</th>\n",
       "      <th>oldbalanceDest</th>\n",
       "      <th>newbalanceDest</th>\n",
       "      <th>isFraud</th>\n",
       "      <th>isFlaggedFraud</th>\n",
       "    </tr>\n",
       "  </thead>\n",
       "  <tbody>\n",
       "    <tr>\n",
       "      <th>0</th>\n",
       "      <td>1</td>\n",
       "      <td>9839.64</td>\n",
       "      <td>170136.0</td>\n",
       "      <td>160296.36</td>\n",
       "      <td>0.0</td>\n",
       "      <td>0.0</td>\n",
       "      <td>0</td>\n",
       "      <td>0</td>\n",
       "    </tr>\n",
       "    <tr>\n",
       "      <th>1</th>\n",
       "      <td>1</td>\n",
       "      <td>1864.28</td>\n",
       "      <td>21249.0</td>\n",
       "      <td>19384.72</td>\n",
       "      <td>0.0</td>\n",
       "      <td>0.0</td>\n",
       "      <td>0</td>\n",
       "      <td>0</td>\n",
       "    </tr>\n",
       "  </tbody>\n",
       "</table>\n",
       "</div>"
      ],
      "text/plain": [
       "   step   amount  oldbalanceOrg  newbalanceOrig  oldbalanceDest  \\\n",
       "0     1  9839.64       170136.0       160296.36             0.0   \n",
       "1     1  1864.28        21249.0        19384.72             0.0   \n",
       "\n",
       "   newbalanceDest  isFraud  isFlaggedFraud  \n",
       "0             0.0        0               0  \n",
       "1             0.0        0               0  "
      ]
     },
     "execution_count": 11,
     "metadata": {},
     "output_type": "execute_result"
    }
   ],
   "source": [
    "df_temp = df_f_1.drop([\"type\"], axis = 1)\n",
    "df_temp.head(2)"
   ]
  },
  {
   "cell_type": "code",
   "execution_count": 12,
   "id": "f115d87f",
   "metadata": {},
   "outputs": [
    {
     "data": {
      "text/html": [
       "<div>\n",
       "<style scoped>\n",
       "    .dataframe tbody tr th:only-of-type {\n",
       "        vertical-align: middle;\n",
       "    }\n",
       "\n",
       "    .dataframe tbody tr th {\n",
       "        vertical-align: top;\n",
       "    }\n",
       "\n",
       "    .dataframe thead th {\n",
       "        text-align: right;\n",
       "    }\n",
       "</style>\n",
       "<table border=\"1\" class=\"dataframe\">\n",
       "  <thead>\n",
       "    <tr style=\"text-align: right;\">\n",
       "      <th></th>\n",
       "      <th>step</th>\n",
       "      <th>amount</th>\n",
       "      <th>oldbalanceOrg</th>\n",
       "      <th>newbalanceOrig</th>\n",
       "      <th>oldbalanceDest</th>\n",
       "      <th>newbalanceDest</th>\n",
       "      <th>isFraud</th>\n",
       "      <th>isFlaggedFraud</th>\n",
       "    </tr>\n",
       "  </thead>\n",
       "  <tbody>\n",
       "    <tr>\n",
       "      <th>count</th>\n",
       "      <td>6.362620e+06</td>\n",
       "      <td>6.362620e+06</td>\n",
       "      <td>6.362620e+06</td>\n",
       "      <td>6.362620e+06</td>\n",
       "      <td>6.362620e+06</td>\n",
       "      <td>6.362620e+06</td>\n",
       "      <td>6.362620e+06</td>\n",
       "      <td>6.362620e+06</td>\n",
       "    </tr>\n",
       "    <tr>\n",
       "      <th>mean</th>\n",
       "      <td>2.433972e+02</td>\n",
       "      <td>1.798619e+05</td>\n",
       "      <td>8.338831e+05</td>\n",
       "      <td>8.551137e+05</td>\n",
       "      <td>1.100702e+06</td>\n",
       "      <td>1.224996e+06</td>\n",
       "      <td>1.290820e-03</td>\n",
       "      <td>2.514687e-06</td>\n",
       "    </tr>\n",
       "    <tr>\n",
       "      <th>std</th>\n",
       "      <td>1.423320e+02</td>\n",
       "      <td>6.038582e+05</td>\n",
       "      <td>2.888243e+06</td>\n",
       "      <td>2.924049e+06</td>\n",
       "      <td>3.399180e+06</td>\n",
       "      <td>3.674129e+06</td>\n",
       "      <td>3.590480e-02</td>\n",
       "      <td>1.585775e-03</td>\n",
       "    </tr>\n",
       "    <tr>\n",
       "      <th>min</th>\n",
       "      <td>1.000000e+00</td>\n",
       "      <td>0.000000e+00</td>\n",
       "      <td>0.000000e+00</td>\n",
       "      <td>0.000000e+00</td>\n",
       "      <td>0.000000e+00</td>\n",
       "      <td>0.000000e+00</td>\n",
       "      <td>0.000000e+00</td>\n",
       "      <td>0.000000e+00</td>\n",
       "    </tr>\n",
       "    <tr>\n",
       "      <th>25%</th>\n",
       "      <td>1.560000e+02</td>\n",
       "      <td>1.338957e+04</td>\n",
       "      <td>0.000000e+00</td>\n",
       "      <td>0.000000e+00</td>\n",
       "      <td>0.000000e+00</td>\n",
       "      <td>0.000000e+00</td>\n",
       "      <td>0.000000e+00</td>\n",
       "      <td>0.000000e+00</td>\n",
       "    </tr>\n",
       "    <tr>\n",
       "      <th>50%</th>\n",
       "      <td>2.390000e+02</td>\n",
       "      <td>7.487194e+04</td>\n",
       "      <td>1.420800e+04</td>\n",
       "      <td>0.000000e+00</td>\n",
       "      <td>1.327057e+05</td>\n",
       "      <td>2.146614e+05</td>\n",
       "      <td>0.000000e+00</td>\n",
       "      <td>0.000000e+00</td>\n",
       "    </tr>\n",
       "    <tr>\n",
       "      <th>75%</th>\n",
       "      <td>3.350000e+02</td>\n",
       "      <td>2.087215e+05</td>\n",
       "      <td>1.073152e+05</td>\n",
       "      <td>1.442584e+05</td>\n",
       "      <td>9.430367e+05</td>\n",
       "      <td>1.111909e+06</td>\n",
       "      <td>0.000000e+00</td>\n",
       "      <td>0.000000e+00</td>\n",
       "    </tr>\n",
       "    <tr>\n",
       "      <th>max</th>\n",
       "      <td>7.430000e+02</td>\n",
       "      <td>9.244552e+07</td>\n",
       "      <td>5.958504e+07</td>\n",
       "      <td>4.958504e+07</td>\n",
       "      <td>3.560159e+08</td>\n",
       "      <td>3.561793e+08</td>\n",
       "      <td>1.000000e+00</td>\n",
       "      <td>1.000000e+00</td>\n",
       "    </tr>\n",
       "  </tbody>\n",
       "</table>\n",
       "</div>"
      ],
      "text/plain": [
       "               step        amount  oldbalanceOrg  newbalanceOrig  \\\n",
       "count  6.362620e+06  6.362620e+06   6.362620e+06    6.362620e+06   \n",
       "mean   2.433972e+02  1.798619e+05   8.338831e+05    8.551137e+05   \n",
       "std    1.423320e+02  6.038582e+05   2.888243e+06    2.924049e+06   \n",
       "min    1.000000e+00  0.000000e+00   0.000000e+00    0.000000e+00   \n",
       "25%    1.560000e+02  1.338957e+04   0.000000e+00    0.000000e+00   \n",
       "50%    2.390000e+02  7.487194e+04   1.420800e+04    0.000000e+00   \n",
       "75%    3.350000e+02  2.087215e+05   1.073152e+05    1.442584e+05   \n",
       "max    7.430000e+02  9.244552e+07   5.958504e+07    4.958504e+07   \n",
       "\n",
       "       oldbalanceDest  newbalanceDest       isFraud  isFlaggedFraud  \n",
       "count    6.362620e+06    6.362620e+06  6.362620e+06    6.362620e+06  \n",
       "mean     1.100702e+06    1.224996e+06  1.290820e-03    2.514687e-06  \n",
       "std      3.399180e+06    3.674129e+06  3.590480e-02    1.585775e-03  \n",
       "min      0.000000e+00    0.000000e+00  0.000000e+00    0.000000e+00  \n",
       "25%      0.000000e+00    0.000000e+00  0.000000e+00    0.000000e+00  \n",
       "50%      1.327057e+05    2.146614e+05  0.000000e+00    0.000000e+00  \n",
       "75%      9.430367e+05    1.111909e+06  0.000000e+00    0.000000e+00  \n",
       "max      3.560159e+08    3.561793e+08  1.000000e+00    1.000000e+00  "
      ]
     },
     "execution_count": 12,
     "metadata": {},
     "output_type": "execute_result"
    }
   ],
   "source": [
    "df_temp = df_f_1.copy()\n",
    "desc = df_f_1.describe()\n",
    "desc"
   ]
  },
  {
   "cell_type": "code",
   "execution_count": 13,
   "id": "8d382096",
   "metadata": {},
   "outputs": [],
   "source": [
    "previous_count = df_f_1.isFraud.value_counts().min()"
   ]
  },
  {
   "cell_type": "code",
   "execution_count": 14,
   "id": "04c1ffc4",
   "metadata": {},
   "outputs": [
    {
     "data": {
      "text/plain": [
       "0    6354407\n",
       "1       8213\n",
       "Name: isFraud, dtype: int64"
      ]
     },
     "execution_count": 14,
     "metadata": {},
     "output_type": "execute_result"
    }
   ],
   "source": [
    "df_f_1.isFraud.value_counts()"
   ]
  },
  {
   "cell_type": "code",
   "execution_count": 15,
   "id": "89a38a78",
   "metadata": {},
   "outputs": [
    {
     "data": {
      "text/plain": [
       "8213"
      ]
     },
     "execution_count": 15,
     "metadata": {},
     "output_type": "execute_result"
    }
   ],
   "source": [
    "df_f_1.isFraud.value_counts().min()"
   ]
  },
  {
   "cell_type": "code",
   "execution_count": 16,
   "id": "9236edb3",
   "metadata": {},
   "outputs": [],
   "source": [
    "pos_rows = df_f_1[df_f_1[\"isFraud\"] == 1]\n",
    "neg_rows = df_f_1[df_f_1[\"isFraud\"] == 0]"
   ]
  },
  {
   "cell_type": "code",
   "execution_count": 17,
   "id": "53a92abe",
   "metadata": {},
   "outputs": [
    {
     "data": {
      "text/plain": [
       "((8213, 9), (6354407, 9))"
      ]
     },
     "execution_count": 17,
     "metadata": {},
     "output_type": "execute_result"
    }
   ],
   "source": [
    "pos_rows.shape, neg_rows.shape"
   ]
  },
  {
   "cell_type": "code",
   "execution_count": 18,
   "id": "3ff5aba8",
   "metadata": {},
   "outputs": [],
   "source": [
    "neg_rows = neg_rows.sample(n = df_f_1.isFraud.value_counts().min())"
   ]
  },
  {
   "cell_type": "code",
   "execution_count": 19,
   "id": "144cc2a9",
   "metadata": {},
   "outputs": [
    {
     "data": {
      "text/html": [
       "<div>\n",
       "<style scoped>\n",
       "    .dataframe tbody tr th:only-of-type {\n",
       "        vertical-align: middle;\n",
       "    }\n",
       "\n",
       "    .dataframe tbody tr th {\n",
       "        vertical-align: top;\n",
       "    }\n",
       "\n",
       "    .dataframe thead th {\n",
       "        text-align: right;\n",
       "    }\n",
       "</style>\n",
       "<table border=\"1\" class=\"dataframe\">\n",
       "  <thead>\n",
       "    <tr style=\"text-align: right;\">\n",
       "      <th></th>\n",
       "      <th>step</th>\n",
       "      <th>type</th>\n",
       "      <th>amount</th>\n",
       "      <th>oldbalanceOrg</th>\n",
       "      <th>newbalanceOrig</th>\n",
       "      <th>oldbalanceDest</th>\n",
       "      <th>newbalanceDest</th>\n",
       "      <th>isFraud</th>\n",
       "      <th>isFlaggedFraud</th>\n",
       "    </tr>\n",
       "  </thead>\n",
       "  <tbody>\n",
       "    <tr>\n",
       "      <th>3524988</th>\n",
       "      <td>259</td>\n",
       "      <td>CASH_OUT</td>\n",
       "      <td>70814.49</td>\n",
       "      <td>409.0</td>\n",
       "      <td>0.00</td>\n",
       "      <td>0.00</td>\n",
       "      <td>70814.49</td>\n",
       "      <td>0</td>\n",
       "      <td>0</td>\n",
       "    </tr>\n",
       "    <tr>\n",
       "      <th>4469066</th>\n",
       "      <td>324</td>\n",
       "      <td>CASH_OUT</td>\n",
       "      <td>27740.99</td>\n",
       "      <td>0.0</td>\n",
       "      <td>0.00</td>\n",
       "      <td>799273.91</td>\n",
       "      <td>827014.90</td>\n",
       "      <td>0</td>\n",
       "      <td>0</td>\n",
       "    </tr>\n",
       "    <tr>\n",
       "      <th>3368504</th>\n",
       "      <td>254</td>\n",
       "      <td>CASH_IN</td>\n",
       "      <td>568753.40</td>\n",
       "      <td>39750.0</td>\n",
       "      <td>608503.40</td>\n",
       "      <td>0.00</td>\n",
       "      <td>0.00</td>\n",
       "      <td>0</td>\n",
       "      <td>0</td>\n",
       "    </tr>\n",
       "    <tr>\n",
       "      <th>4432267</th>\n",
       "      <td>322</td>\n",
       "      <td>CASH_OUT</td>\n",
       "      <td>240211.73</td>\n",
       "      <td>20717.0</td>\n",
       "      <td>0.00</td>\n",
       "      <td>1282349.93</td>\n",
       "      <td>1014905.53</td>\n",
       "      <td>0</td>\n",
       "      <td>0</td>\n",
       "    </tr>\n",
       "    <tr>\n",
       "      <th>3280192</th>\n",
       "      <td>251</td>\n",
       "      <td>CASH_OUT</td>\n",
       "      <td>323080.67</td>\n",
       "      <td>11647.0</td>\n",
       "      <td>0.00</td>\n",
       "      <td>1019359.28</td>\n",
       "      <td>1342439.95</td>\n",
       "      <td>0</td>\n",
       "      <td>0</td>\n",
       "    </tr>\n",
       "    <tr>\n",
       "      <th>...</th>\n",
       "      <td>...</td>\n",
       "      <td>...</td>\n",
       "      <td>...</td>\n",
       "      <td>...</td>\n",
       "      <td>...</td>\n",
       "      <td>...</td>\n",
       "      <td>...</td>\n",
       "      <td>...</td>\n",
       "      <td>...</td>\n",
       "    </tr>\n",
       "    <tr>\n",
       "      <th>4992726</th>\n",
       "      <td>352</td>\n",
       "      <td>PAYMENT</td>\n",
       "      <td>21876.03</td>\n",
       "      <td>35980.0</td>\n",
       "      <td>14103.97</td>\n",
       "      <td>0.00</td>\n",
       "      <td>0.00</td>\n",
       "      <td>0</td>\n",
       "      <td>0</td>\n",
       "    </tr>\n",
       "    <tr>\n",
       "      <th>3877989</th>\n",
       "      <td>283</td>\n",
       "      <td>PAYMENT</td>\n",
       "      <td>9379.94</td>\n",
       "      <td>0.0</td>\n",
       "      <td>0.00</td>\n",
       "      <td>0.00</td>\n",
       "      <td>0.00</td>\n",
       "      <td>0</td>\n",
       "      <td>0</td>\n",
       "    </tr>\n",
       "    <tr>\n",
       "      <th>4987751</th>\n",
       "      <td>352</td>\n",
       "      <td>PAYMENT</td>\n",
       "      <td>41706.97</td>\n",
       "      <td>0.0</td>\n",
       "      <td>0.00</td>\n",
       "      <td>0.00</td>\n",
       "      <td>0.00</td>\n",
       "      <td>0</td>\n",
       "      <td>0</td>\n",
       "    </tr>\n",
       "    <tr>\n",
       "      <th>6355362</th>\n",
       "      <td>709</td>\n",
       "      <td>PAYMENT</td>\n",
       "      <td>9598.73</td>\n",
       "      <td>0.0</td>\n",
       "      <td>0.00</td>\n",
       "      <td>0.00</td>\n",
       "      <td>0.00</td>\n",
       "      <td>0</td>\n",
       "      <td>0</td>\n",
       "    </tr>\n",
       "    <tr>\n",
       "      <th>26608</th>\n",
       "      <td>8</td>\n",
       "      <td>TRANSFER</td>\n",
       "      <td>2459952.97</td>\n",
       "      <td>14119.0</td>\n",
       "      <td>0.00</td>\n",
       "      <td>3042588.70</td>\n",
       "      <td>8124431.39</td>\n",
       "      <td>0</td>\n",
       "      <td>0</td>\n",
       "    </tr>\n",
       "  </tbody>\n",
       "</table>\n",
       "<p>8213 rows × 9 columns</p>\n",
       "</div>"
      ],
      "text/plain": [
       "         step      type      amount  oldbalanceOrg  newbalanceOrig  \\\n",
       "3524988   259  CASH_OUT    70814.49          409.0            0.00   \n",
       "4469066   324  CASH_OUT    27740.99            0.0            0.00   \n",
       "3368504   254   CASH_IN   568753.40        39750.0       608503.40   \n",
       "4432267   322  CASH_OUT   240211.73        20717.0            0.00   \n",
       "3280192   251  CASH_OUT   323080.67        11647.0            0.00   \n",
       "...       ...       ...         ...            ...             ...   \n",
       "4992726   352   PAYMENT    21876.03        35980.0        14103.97   \n",
       "3877989   283   PAYMENT     9379.94            0.0            0.00   \n",
       "4987751   352   PAYMENT    41706.97            0.0            0.00   \n",
       "6355362   709   PAYMENT     9598.73            0.0            0.00   \n",
       "26608       8  TRANSFER  2459952.97        14119.0            0.00   \n",
       "\n",
       "         oldbalanceDest  newbalanceDest  isFraud  isFlaggedFraud  \n",
       "3524988            0.00        70814.49        0               0  \n",
       "4469066       799273.91       827014.90        0               0  \n",
       "3368504            0.00            0.00        0               0  \n",
       "4432267      1282349.93      1014905.53        0               0  \n",
       "3280192      1019359.28      1342439.95        0               0  \n",
       "...                 ...             ...      ...             ...  \n",
       "4992726            0.00            0.00        0               0  \n",
       "3877989            0.00            0.00        0               0  \n",
       "4987751            0.00            0.00        0               0  \n",
       "6355362            0.00            0.00        0               0  \n",
       "26608        3042588.70      8124431.39        0               0  \n",
       "\n",
       "[8213 rows x 9 columns]"
      ]
     },
     "execution_count": 19,
     "metadata": {},
     "output_type": "execute_result"
    }
   ],
   "source": [
    "neg_rows"
   ]
  },
  {
   "cell_type": "code",
   "execution_count": 20,
   "id": "ecf771aa",
   "metadata": {},
   "outputs": [
    {
     "data": {
      "text/html": [
       "<div>\n",
       "<style scoped>\n",
       "    .dataframe tbody tr th:only-of-type {\n",
       "        vertical-align: middle;\n",
       "    }\n",
       "\n",
       "    .dataframe tbody tr th {\n",
       "        vertical-align: top;\n",
       "    }\n",
       "\n",
       "    .dataframe thead th {\n",
       "        text-align: right;\n",
       "    }\n",
       "</style>\n",
       "<table border=\"1\" class=\"dataframe\">\n",
       "  <thead>\n",
       "    <tr style=\"text-align: right;\">\n",
       "      <th></th>\n",
       "      <th>step</th>\n",
       "      <th>type</th>\n",
       "      <th>amount</th>\n",
       "      <th>oldbalanceOrg</th>\n",
       "      <th>newbalanceOrig</th>\n",
       "      <th>oldbalanceDest</th>\n",
       "      <th>newbalanceDest</th>\n",
       "      <th>isFraud</th>\n",
       "      <th>isFlaggedFraud</th>\n",
       "    </tr>\n",
       "  </thead>\n",
       "  <tbody>\n",
       "    <tr>\n",
       "      <th>2</th>\n",
       "      <td>1</td>\n",
       "      <td>TRANSFER</td>\n",
       "      <td>181.00</td>\n",
       "      <td>181.0</td>\n",
       "      <td>0.00</td>\n",
       "      <td>0.0</td>\n",
       "      <td>0.00</td>\n",
       "      <td>1</td>\n",
       "      <td>0</td>\n",
       "    </tr>\n",
       "    <tr>\n",
       "      <th>3</th>\n",
       "      <td>1</td>\n",
       "      <td>CASH_OUT</td>\n",
       "      <td>181.00</td>\n",
       "      <td>181.0</td>\n",
       "      <td>0.00</td>\n",
       "      <td>21182.0</td>\n",
       "      <td>0.00</td>\n",
       "      <td>1</td>\n",
       "      <td>0</td>\n",
       "    </tr>\n",
       "    <tr>\n",
       "      <th>251</th>\n",
       "      <td>1</td>\n",
       "      <td>TRANSFER</td>\n",
       "      <td>2806.00</td>\n",
       "      <td>2806.0</td>\n",
       "      <td>0.00</td>\n",
       "      <td>0.0</td>\n",
       "      <td>0.00</td>\n",
       "      <td>1</td>\n",
       "      <td>0</td>\n",
       "    </tr>\n",
       "    <tr>\n",
       "      <th>252</th>\n",
       "      <td>1</td>\n",
       "      <td>CASH_OUT</td>\n",
       "      <td>2806.00</td>\n",
       "      <td>2806.0</td>\n",
       "      <td>0.00</td>\n",
       "      <td>26202.0</td>\n",
       "      <td>0.00</td>\n",
       "      <td>1</td>\n",
       "      <td>0</td>\n",
       "    </tr>\n",
       "    <tr>\n",
       "      <th>680</th>\n",
       "      <td>1</td>\n",
       "      <td>TRANSFER</td>\n",
       "      <td>20128.00</td>\n",
       "      <td>20128.0</td>\n",
       "      <td>0.00</td>\n",
       "      <td>0.0</td>\n",
       "      <td>0.00</td>\n",
       "      <td>1</td>\n",
       "      <td>0</td>\n",
       "    </tr>\n",
       "    <tr>\n",
       "      <th>...</th>\n",
       "      <td>...</td>\n",
       "      <td>...</td>\n",
       "      <td>...</td>\n",
       "      <td>...</td>\n",
       "      <td>...</td>\n",
       "      <td>...</td>\n",
       "      <td>...</td>\n",
       "      <td>...</td>\n",
       "      <td>...</td>\n",
       "    </tr>\n",
       "    <tr>\n",
       "      <th>4992726</th>\n",
       "      <td>352</td>\n",
       "      <td>PAYMENT</td>\n",
       "      <td>21876.03</td>\n",
       "      <td>35980.0</td>\n",
       "      <td>14103.97</td>\n",
       "      <td>0.0</td>\n",
       "      <td>0.00</td>\n",
       "      <td>0</td>\n",
       "      <td>0</td>\n",
       "    </tr>\n",
       "    <tr>\n",
       "      <th>3877989</th>\n",
       "      <td>283</td>\n",
       "      <td>PAYMENT</td>\n",
       "      <td>9379.94</td>\n",
       "      <td>0.0</td>\n",
       "      <td>0.00</td>\n",
       "      <td>0.0</td>\n",
       "      <td>0.00</td>\n",
       "      <td>0</td>\n",
       "      <td>0</td>\n",
       "    </tr>\n",
       "    <tr>\n",
       "      <th>4987751</th>\n",
       "      <td>352</td>\n",
       "      <td>PAYMENT</td>\n",
       "      <td>41706.97</td>\n",
       "      <td>0.0</td>\n",
       "      <td>0.00</td>\n",
       "      <td>0.0</td>\n",
       "      <td>0.00</td>\n",
       "      <td>0</td>\n",
       "      <td>0</td>\n",
       "    </tr>\n",
       "    <tr>\n",
       "      <th>6355362</th>\n",
       "      <td>709</td>\n",
       "      <td>PAYMENT</td>\n",
       "      <td>9598.73</td>\n",
       "      <td>0.0</td>\n",
       "      <td>0.00</td>\n",
       "      <td>0.0</td>\n",
       "      <td>0.00</td>\n",
       "      <td>0</td>\n",
       "      <td>0</td>\n",
       "    </tr>\n",
       "    <tr>\n",
       "      <th>26608</th>\n",
       "      <td>8</td>\n",
       "      <td>TRANSFER</td>\n",
       "      <td>2459952.97</td>\n",
       "      <td>14119.0</td>\n",
       "      <td>0.00</td>\n",
       "      <td>3042588.7</td>\n",
       "      <td>8124431.39</td>\n",
       "      <td>0</td>\n",
       "      <td>0</td>\n",
       "    </tr>\n",
       "  </tbody>\n",
       "</table>\n",
       "<p>16426 rows × 9 columns</p>\n",
       "</div>"
      ],
      "text/plain": [
       "         step      type      amount  oldbalanceOrg  newbalanceOrig  \\\n",
       "2           1  TRANSFER      181.00          181.0            0.00   \n",
       "3           1  CASH_OUT      181.00          181.0            0.00   \n",
       "251         1  TRANSFER     2806.00         2806.0            0.00   \n",
       "252         1  CASH_OUT     2806.00         2806.0            0.00   \n",
       "680         1  TRANSFER    20128.00        20128.0            0.00   \n",
       "...       ...       ...         ...            ...             ...   \n",
       "4992726   352   PAYMENT    21876.03        35980.0        14103.97   \n",
       "3877989   283   PAYMENT     9379.94            0.0            0.00   \n",
       "4987751   352   PAYMENT    41706.97            0.0            0.00   \n",
       "6355362   709   PAYMENT     9598.73            0.0            0.00   \n",
       "26608       8  TRANSFER  2459952.97        14119.0            0.00   \n",
       "\n",
       "         oldbalanceDest  newbalanceDest  isFraud  isFlaggedFraud  \n",
       "2                   0.0            0.00        1               0  \n",
       "3               21182.0            0.00        1               0  \n",
       "251                 0.0            0.00        1               0  \n",
       "252             26202.0            0.00        1               0  \n",
       "680                 0.0            0.00        1               0  \n",
       "...                 ...             ...      ...             ...  \n",
       "4992726             0.0            0.00        0               0  \n",
       "3877989             0.0            0.00        0               0  \n",
       "4987751             0.0            0.00        0               0  \n",
       "6355362             0.0            0.00        0               0  \n",
       "26608         3042588.7      8124431.39        0               0  \n",
       "\n",
       "[16426 rows x 9 columns]"
      ]
     },
     "execution_count": 20,
     "metadata": {},
     "output_type": "execute_result"
    }
   ],
   "source": [
    "df_2 = pd.concat([pos_rows, neg_rows], axis = 0)\n",
    "df_2"
   ]
  },
  {
   "cell_type": "code",
   "execution_count": 21,
   "id": "759f4b55",
   "metadata": {},
   "outputs": [
    {
     "name": "stderr",
     "output_type": "stream",
     "text": [
      "/Users/hari/anaconda3/lib/python3.10/site-packages/scipy/stats/_morestats.py:1816: UserWarning: p-value may not be accurate for N > 5000.\n",
      "  warnings.warn(\"p-value may not be accurate for N > 5000.\")\n"
     ]
    },
    {
     "data": {
      "text/plain": [
       "ShapiroResult(statistic=0.6366234421730042, pvalue=0.0)"
      ]
     },
     "execution_count": 21,
     "metadata": {},
     "output_type": "execute_result"
    }
   ],
   "source": [
    "stats.shapiro(df_2[\"isFraud\"])"
   ]
  },
  {
   "cell_type": "code",
   "execution_count": 22,
   "id": "8fa227d9",
   "metadata": {},
   "outputs": [
    {
     "data": {
      "text/plain": [
       "array(['TRANSFER', 'CASH_OUT', 'CASH_IN', 'PAYMENT', 'DEBIT'],\n",
       "      dtype=object)"
      ]
     },
     "execution_count": 22,
     "metadata": {},
     "output_type": "execute_result"
    }
   ],
   "source": [
    "uniqs = df_2[\"type\"].unique()\n",
    "uniqs"
   ]
  },
  {
   "cell_type": "code",
   "execution_count": 23,
   "id": "01a9667c",
   "metadata": {},
   "outputs": [],
   "source": [
    "transfer = df_2[df_2[\"type\"]== \"TRANSFER\"][\"isFraud\"]\n",
    "cashOut = df_2[df_2[\"type\"]== \"CASH_OUT\"][\"isFraud\"]\n",
    "debit = df_2[df_2[\"type\"]== \"DEBIT\"][\"isFraud\"]\n",
    "payment = df_2[df_2[\"type\"]== \"PAYMENT\"][\"isFraud\"]\n",
    "cashIn = df_2[df_2[\"type\"]== \"CASH_IN\"][\"isFraud\"]"
   ]
  },
  {
   "cell_type": "markdown",
   "id": "69d9b569",
   "metadata": {},
   "source": [
    "###### Performing Anova Test for the categorical variable \"type\". \n",
    "Null hypothesis, H_0: All means are equal. \n",
    "Alternate hypothesis, H_1: At least one mean is different from the others"
   ]
  },
  {
   "cell_type": "code",
   "execution_count": 24,
   "id": "9aae91ec",
   "metadata": {},
   "outputs": [
    {
     "name": "stdout",
     "output_type": "stream",
     "text": [
      "KruskalResult(statistic=7252.633512202278, pvalue=0.0)\n"
     ]
    }
   ],
   "source": [
    "a = stats.kruskal(transfer, cashOut, debit, payment, cashIn)\n",
    "print(a)"
   ]
  },
  {
   "cell_type": "markdown",
   "id": "05ce87b9",
   "metadata": {},
   "source": [
    "###### Since the p-value is very less, we reject the null hypothesis"
   ]
  },
  {
   "cell_type": "code",
   "execution_count": 25,
   "id": "fb526a92",
   "metadata": {},
   "outputs": [
    {
     "data": {
      "text/plain": [
       "<Axes: xlabel='newbalanceDest', ylabel='Density'>"
      ]
     },
     "execution_count": 25,
     "metadata": {},
     "output_type": "execute_result"
    },
    {
     "data": {
      "image/png": "[encoded data removed]",
      "text/plain": [
       "<Figure size 1000x500 with 6 Axes>"
      ]
     },
     "metadata": {},
     "output_type": "display_data"
    }
   ],
   "source": [
    "import warnings\n",
    "warnings.filterwarnings(\"ignore\")\n",
    "plt.figure(figsize = (10,5))\n",
    "plt.subplot(3,2,1)\n",
    "sns.distplot(df_2[\"step\"])\n",
    "plt.subplot(3,2,2)\n",
    "sns.distplot(df_2[\"amount\"])\n",
    "plt.subplot(3,2,3)\n",
    "sns.distplot(df_2[\"oldbalanceOrg\"])\n",
    "plt.subplot(3,2,4)\n",
    "sns.distplot(df_2[\"oldbalanceDest\"])\n",
    "plt.subplot(3,2,5)\n",
    "sns.distplot(df_2[\"newbalanceOrig\"])\n",
    "plt.subplot(3,2,6)\n",
    "sns.distplot(df_2[\"newbalanceDest\"])\n"
   ]
  },
  {
   "cell_type": "markdown",
   "id": "49fcb18b",
   "metadata": {},
   "source": [
    "###### Encoding the categorical variable \"type\""
   ]
  },
  {
   "cell_type": "code",
   "execution_count": 26,
   "id": "028aea2d",
   "metadata": {},
   "outputs": [
    {
     "data": {
      "text/html": [
       "<div>\n",
       "<style scoped>\n",
       "    .dataframe tbody tr th:only-of-type {\n",
       "        vertical-align: middle;\n",
       "    }\n",
       "\n",
       "    .dataframe tbody tr th {\n",
       "        vertical-align: top;\n",
       "    }\n",
       "\n",
       "    .dataframe thead th {\n",
       "        text-align: right;\n",
       "    }\n",
       "</style>\n",
       "<table border=\"1\" class=\"dataframe\">\n",
       "  <thead>\n",
       "    <tr style=\"text-align: right;\">\n",
       "      <th></th>\n",
       "      <th>step</th>\n",
       "      <th>type</th>\n",
       "      <th>amount</th>\n",
       "      <th>oldbalanceOrg</th>\n",
       "      <th>newbalanceOrig</th>\n",
       "      <th>oldbalanceDest</th>\n",
       "      <th>newbalanceDest</th>\n",
       "      <th>isFraud</th>\n",
       "      <th>isFlaggedFraud</th>\n",
       "      <th>CASH_OUT</th>\n",
       "      <th>DEBIT</th>\n",
       "      <th>PAYMENT</th>\n",
       "      <th>TRANSFER</th>\n",
       "    </tr>\n",
       "  </thead>\n",
       "  <tbody>\n",
       "    <tr>\n",
       "      <th>2</th>\n",
       "      <td>1</td>\n",
       "      <td>TRANSFER</td>\n",
       "      <td>181.0</td>\n",
       "      <td>181.0</td>\n",
       "      <td>0.0</td>\n",
       "      <td>0.0</td>\n",
       "      <td>0.0</td>\n",
       "      <td>1</td>\n",
       "      <td>0</td>\n",
       "      <td>0</td>\n",
       "      <td>0</td>\n",
       "      <td>0</td>\n",
       "      <td>1</td>\n",
       "    </tr>\n",
       "    <tr>\n",
       "      <th>3</th>\n",
       "      <td>1</td>\n",
       "      <td>CASH_OUT</td>\n",
       "      <td>181.0</td>\n",
       "      <td>181.0</td>\n",
       "      <td>0.0</td>\n",
       "      <td>21182.0</td>\n",
       "      <td>0.0</td>\n",
       "      <td>1</td>\n",
       "      <td>0</td>\n",
       "      <td>1</td>\n",
       "      <td>0</td>\n",
       "      <td>0</td>\n",
       "      <td>0</td>\n",
       "    </tr>\n",
       "    <tr>\n",
       "      <th>251</th>\n",
       "      <td>1</td>\n",
       "      <td>TRANSFER</td>\n",
       "      <td>2806.0</td>\n",
       "      <td>2806.0</td>\n",
       "      <td>0.0</td>\n",
       "      <td>0.0</td>\n",
       "      <td>0.0</td>\n",
       "      <td>1</td>\n",
       "      <td>0</td>\n",
       "      <td>0</td>\n",
       "      <td>0</td>\n",
       "      <td>0</td>\n",
       "      <td>1</td>\n",
       "    </tr>\n",
       "    <tr>\n",
       "      <th>252</th>\n",
       "      <td>1</td>\n",
       "      <td>CASH_OUT</td>\n",
       "      <td>2806.0</td>\n",
       "      <td>2806.0</td>\n",
       "      <td>0.0</td>\n",
       "      <td>26202.0</td>\n",
       "      <td>0.0</td>\n",
       "      <td>1</td>\n",
       "      <td>0</td>\n",
       "      <td>1</td>\n",
       "      <td>0</td>\n",
       "      <td>0</td>\n",
       "      <td>0</td>\n",
       "    </tr>\n",
       "    <tr>\n",
       "      <th>680</th>\n",
       "      <td>1</td>\n",
       "      <td>TRANSFER</td>\n",
       "      <td>20128.0</td>\n",
       "      <td>20128.0</td>\n",
       "      <td>0.0</td>\n",
       "      <td>0.0</td>\n",
       "      <td>0.0</td>\n",
       "      <td>1</td>\n",
       "      <td>0</td>\n",
       "      <td>0</td>\n",
       "      <td>0</td>\n",
       "      <td>0</td>\n",
       "      <td>1</td>\n",
       "    </tr>\n",
       "  </tbody>\n",
       "</table>\n",
       "</div>"
      ],
      "text/plain": [
       "     step      type   amount  oldbalanceOrg  newbalanceOrig  oldbalanceDest  \\\n",
       "2       1  TRANSFER    181.0          181.0             0.0             0.0   \n",
       "3       1  CASH_OUT    181.0          181.0             0.0         21182.0   \n",
       "251     1  TRANSFER   2806.0         2806.0             0.0             0.0   \n",
       "252     1  CASH_OUT   2806.0         2806.0             0.0         26202.0   \n",
       "680     1  TRANSFER  20128.0        20128.0             0.0             0.0   \n",
       "\n",
       "     newbalanceDest  isFraud  isFlaggedFraud  CASH_OUT  DEBIT  PAYMENT  \\\n",
       "2               0.0        1               0         0      0        0   \n",
       "3               0.0        1               0         1      0        0   \n",
       "251             0.0        1               0         0      0        0   \n",
       "252             0.0        1               0         1      0        0   \n",
       "680             0.0        1               0         0      0        0   \n",
       "\n",
       "     TRANSFER  \n",
       "2           1  \n",
       "3           0  \n",
       "251         1  \n",
       "252         0  \n",
       "680         1  "
      ]
     },
     "execution_count": 26,
     "metadata": {},
     "output_type": "execute_result"
    }
   ],
   "source": [
    "type_dummies = pd.get_dummies(df_2['type'], drop_first=True)\n",
    "df_3 = pd.concat([df_2, type_dummies], axis=1)\n",
    "df_3.head()"
   ]
  },
  {
   "cell_type": "code",
   "execution_count": 27,
   "id": "9cc8bc8a",
   "metadata": {},
   "outputs": [],
   "source": [
    "X = df_3.drop(['isFraud', 'type'], axis=1)\n",
    "y = df_3['isFraud']"
   ]
  },
  {
   "cell_type": "code",
   "execution_count": 28,
   "id": "2e78560b",
   "metadata": {},
   "outputs": [],
   "source": [
    "from statsmodels.genmod.generalized_linear_model import GLM\n",
    "from statsmodels.genmod import families\n"
   ]
  },
  {
   "cell_type": "code",
   "execution_count": 29,
   "id": "6af2f81c",
   "metadata": {},
   "outputs": [
    {
     "name": "stdout",
     "output_type": "stream",
     "text": [
      "                 Generalized Linear Model Regression Results                  \n",
      "==============================================================================\n",
      "Dep. Variable:                isFraud   No. Observations:                16426\n",
      "Model:                            GLM   Df Residuals:                    16415\n",
      "Model Family:                Binomial   Df Model:                           10\n",
      "Link Function:                  Logit   Scale:                          1.0000\n",
      "Method:                          IRLS   Log-Likelihood:                    nan\n",
      "Date:                Thu, 20 Jul 2023   Deviance:                       4942.1\n",
      "Time:                        15:19:28   Pearson chi2:                 7.66e+16\n",
      "No. Iterations:                    27   Pseudo R-squ. (CS):                nan\n",
      "Covariance Type:            nonrobust                                         \n",
      "==================================================================================\n",
      "                     coef    std err          z      P>|z|      [0.025      0.975]\n",
      "----------------------------------------------------------------------------------\n",
      "step               0.0019      0.000      8.843      0.000       0.001       0.002\n",
      "amount         -3.764e-05   1.64e-06    -22.987      0.000   -4.09e-05   -3.44e-05\n",
      "oldbalanceOrg   4.946e-05    1.6e-06     30.994      0.000    4.63e-05    5.26e-05\n",
      "newbalanceOrig -5.189e-05   1.62e-06    -31.961      0.000   -5.51e-05   -4.87e-05\n",
      "oldbalanceDest  6.471e-07   4.43e-07      1.460      0.144   -2.22e-07    1.52e-06\n",
      "newbalanceDest -6.758e-07   4.43e-07     -1.526      0.127   -1.54e-06    1.92e-07\n",
      "isFlaggedFraud  7.754e-15   1.01e-11      0.001      0.999   -1.98e-11    1.98e-11\n",
      "CASH_OUT          -0.4027      0.089     -4.503      0.000      -0.578      -0.227\n",
      "DEBIT            -28.7478   1.16e+05     -0.000      1.000   -2.28e+05    2.28e+05\n",
      "PAYMENT          -28.7955   1.81e+04     -0.002      0.999   -3.55e+04    3.55e+04\n",
      "TRANSFER           1.5247      0.126     12.091      0.000       1.278       1.772\n",
      "==================================================================================\n"
     ]
    }
   ],
   "source": [
    "logit_model = GLM(y, X, family=families.Binomial())\n",
    "logit_results = logit_model.fit()\n",
    "print(logit_results.summary())"
   ]
  },
  {
   "cell_type": "code",
   "execution_count": 30,
   "id": "7f36069f",
   "metadata": {},
   "outputs": [],
   "source": [
    "import statsmodels.api as sm"
   ]
  },
  {
   "cell_type": "code",
   "execution_count": 31,
   "id": "2d2bb220",
   "metadata": {},
   "outputs": [],
   "source": [
    "X_constant = sm.add_constant(X)"
   ]
  },
  {
   "cell_type": "markdown",
   "id": "944a9e3d",
   "metadata": {},
   "source": [
    "###### Checking Multicollinearity"
   ]
  },
  {
   "cell_type": "code",
   "execution_count": 32,
   "id": "64d6c133",
   "metadata": {},
   "outputs": [
    {
     "data": {
      "text/html": [
       "<div>\n",
       "<style scoped>\n",
       "    .dataframe tbody tr th:only-of-type {\n",
       "        vertical-align: middle;\n",
       "    }\n",
       "\n",
       "    .dataframe tbody tr th {\n",
       "        vertical-align: top;\n",
       "    }\n",
       "\n",
       "    .dataframe thead th {\n",
       "        text-align: right;\n",
       "    }\n",
       "</style>\n",
       "<table border=\"1\" class=\"dataframe\">\n",
       "  <thead>\n",
       "    <tr style=\"text-align: right;\">\n",
       "      <th></th>\n",
       "      <th>vif</th>\n",
       "    </tr>\n",
       "  </thead>\n",
       "  <tbody>\n",
       "    <tr>\n",
       "      <th>step</th>\n",
       "      <td>1.063829</td>\n",
       "    </tr>\n",
       "    <tr>\n",
       "      <th>amount</th>\n",
       "      <td>27.671644</td>\n",
       "    </tr>\n",
       "    <tr>\n",
       "      <th>oldbalanceOrg</th>\n",
       "      <td>77.224944</td>\n",
       "    </tr>\n",
       "    <tr>\n",
       "      <th>newbalanceOrig</th>\n",
       "      <td>47.995370</td>\n",
       "    </tr>\n",
       "    <tr>\n",
       "      <th>oldbalanceDest</th>\n",
       "      <td>13.720592</td>\n",
       "    </tr>\n",
       "    <tr>\n",
       "      <th>newbalanceDest</th>\n",
       "      <td>15.718707</td>\n",
       "    </tr>\n",
       "    <tr>\n",
       "      <th>isFlaggedFraud</th>\n",
       "      <td>1.178451</td>\n",
       "    </tr>\n",
       "    <tr>\n",
       "      <th>CASH_OUT</th>\n",
       "      <td>3.932252</td>\n",
       "    </tr>\n",
       "    <tr>\n",
       "      <th>DEBIT</th>\n",
       "      <td>1.048414</td>\n",
       "    </tr>\n",
       "    <tr>\n",
       "      <th>PAYMENT</th>\n",
       "      <td>2.659382</td>\n",
       "    </tr>\n",
       "    <tr>\n",
       "      <th>TRANSFER</th>\n",
       "      <td>3.576073</td>\n",
       "    </tr>\n",
       "  </tbody>\n",
       "</table>\n",
       "</div>"
      ],
      "text/plain": [
       "                      vif\n",
       "step             1.063829\n",
       "amount          27.671644\n",
       "oldbalanceOrg   77.224944\n",
       "newbalanceOrig  47.995370\n",
       "oldbalanceDest  13.720592\n",
       "newbalanceDest  15.718707\n",
       "isFlaggedFraud   1.178451\n",
       "CASH_OUT         3.932252\n",
       "DEBIT            1.048414\n",
       "PAYMENT          2.659382\n",
       "TRANSFER         3.576073"
      ]
     },
     "execution_count": 32,
     "metadata": {},
     "output_type": "execute_result"
    }
   ],
   "source": [
    "from statsmodels.stats.outliers_influence import variance_inflation_factor\n",
    "vif = [variance_inflation_factor(X_constant.values, i) for i in range(X_constant.shape[1])]\n",
    "pd.DataFrame({'vif': vif[1:]}, index=X.columns)"
   ]
  },
  {
   "cell_type": "code",
   "execution_count": 33,
   "id": "09eb19e7",
   "metadata": {},
   "outputs": [
    {
     "data": {
      "text/plain": [
       "<Axes: >"
      ]
     },
     "execution_count": 33,
     "metadata": {},
     "output_type": "execute_result"
    },
    {
     "data": {
      "image/png": "[encoded data removed]",
      "text/plain": [
       "<Figure size 640x480 with 2 Axes>"
      ]
     },
     "metadata": {},
     "output_type": "display_data"
    }
   ],
   "source": [
    "sns.heatmap(df_2.corr(), annot = True, cmap=\"RdYlGn\")"
   ]
  },
  {
   "cell_type": "markdown",
   "id": "5775b69e",
   "metadata": {},
   "source": [
    "###### This shows that there is presence of multicollinearity"
   ]
  },
  {
   "cell_type": "markdown",
   "id": "6a68d3da",
   "metadata": {},
   "source": [
    "###### Due to presence of multicollinearity, we use PCA to perform feature reduction"
   ]
  },
  {
   "cell_type": "code",
   "execution_count": 34,
   "id": "10d76eb0",
   "metadata": {},
   "outputs": [],
   "source": [
    "from sklearn.decomposition import PCA\n",
    "import matplotlib.pyplot as plt\n",
    "from sklearn.preprocessing import scale "
   ]
  },
  {
   "cell_type": "code",
   "execution_count": null,
   "id": "e6b6049f",
   "metadata": {},
   "outputs": [],
   "source": []
  },
  {
   "cell_type": "code",
   "execution_count": 35,
   "id": "dc84d97b",
   "metadata": {},
   "outputs": [],
   "source": [
    "X_1 = scale(X)\n",
    "pca = PCA()\n",
    "pca_values = pca.fit_transform(X_1)\n",
    "pc = pd.DataFrame(pca_values)"
   ]
  },
  {
   "cell_type": "code",
   "execution_count": 36,
   "id": "b323b8d5",
   "metadata": {},
   "outputs": [
    {
     "data": {
      "text/html": [
       "<div>\n",
       "<style scoped>\n",
       "    .dataframe tbody tr th:only-of-type {\n",
       "        vertical-align: middle;\n",
       "    }\n",
       "\n",
       "    .dataframe tbody tr th {\n",
       "        vertical-align: top;\n",
       "    }\n",
       "\n",
       "    .dataframe thead th {\n",
       "        text-align: right;\n",
       "    }\n",
       "</style>\n",
       "<table border=\"1\" class=\"dataframe\">\n",
       "  <thead>\n",
       "    <tr style=\"text-align: right;\">\n",
       "      <th></th>\n",
       "      <th>0</th>\n",
       "      <th>1</th>\n",
       "      <th>2</th>\n",
       "      <th>3</th>\n",
       "      <th>4</th>\n",
       "      <th>5</th>\n",
       "      <th>6</th>\n",
       "      <th>7</th>\n",
       "      <th>8</th>\n",
       "      <th>9</th>\n",
       "      <th>10</th>\n",
       "    </tr>\n",
       "  </thead>\n",
       "  <tbody>\n",
       "    <tr>\n",
       "      <th>0</th>\n",
       "      <td>-0.736507</td>\n",
       "      <td>-0.808468</td>\n",
       "      <td>-0.669935</td>\n",
       "      <td>0.997512</td>\n",
       "      <td>0.276076</td>\n",
       "      <td>-0.355352</td>\n",
       "      <td>1.854737</td>\n",
       "      <td>-0.308078</td>\n",
       "      <td>0.198983</td>\n",
       "      <td>0.129667</td>\n",
       "      <td>-0.044885</td>\n",
       "    </tr>\n",
       "    <tr>\n",
       "      <th>1</th>\n",
       "      <td>-0.701399</td>\n",
       "      <td>0.817076</td>\n",
       "      <td>0.842193</td>\n",
       "      <td>-0.922385</td>\n",
       "      <td>0.293092</td>\n",
       "      <td>-0.114709</td>\n",
       "      <td>1.415641</td>\n",
       "      <td>-0.426512</td>\n",
       "      <td>0.175860</td>\n",
       "      <td>-0.071309</td>\n",
       "      <td>-0.001900</td>\n",
       "    </tr>\n",
       "    <tr>\n",
       "      <th>2</th>\n",
       "      <td>-0.735457</td>\n",
       "      <td>-0.808946</td>\n",
       "      <td>-0.669962</td>\n",
       "      <td>0.997253</td>\n",
       "      <td>0.275996</td>\n",
       "      <td>-0.355503</td>\n",
       "      <td>1.854424</td>\n",
       "      <td>-0.309080</td>\n",
       "      <td>0.198882</td>\n",
       "      <td>0.129364</td>\n",
       "      <td>-0.044862</td>\n",
       "    </tr>\n",
       "    <tr>\n",
       "      <th>3</th>\n",
       "      <td>-0.699855</td>\n",
       "      <td>0.817349</td>\n",
       "      <td>0.842099</td>\n",
       "      <td>-0.921971</td>\n",
       "      <td>0.292938</td>\n",
       "      <td>-0.114815</td>\n",
       "      <td>1.415377</td>\n",
       "      <td>-0.427237</td>\n",
       "      <td>0.175869</td>\n",
       "      <td>-0.072653</td>\n",
       "      <td>-0.001771</td>\n",
       "    </tr>\n",
       "    <tr>\n",
       "      <th>4</th>\n",
       "      <td>-0.728532</td>\n",
       "      <td>-0.812100</td>\n",
       "      <td>-0.670135</td>\n",
       "      <td>0.995545</td>\n",
       "      <td>0.275469</td>\n",
       "      <td>-0.356502</td>\n",
       "      <td>1.852359</td>\n",
       "      <td>-0.315695</td>\n",
       "      <td>0.198213</td>\n",
       "      <td>0.127363</td>\n",
       "      <td>-0.044710</td>\n",
       "    </tr>\n",
       "  </tbody>\n",
       "</table>\n",
       "</div>"
      ],
      "text/plain": [
       "         0         1         2         3         4         5         6   \\\n",
       "0 -0.736507 -0.808468 -0.669935  0.997512  0.276076 -0.355352  1.854737   \n",
       "1 -0.701399  0.817076  0.842193 -0.922385  0.293092 -0.114709  1.415641   \n",
       "2 -0.735457 -0.808946 -0.669962  0.997253  0.275996 -0.355503  1.854424   \n",
       "3 -0.699855  0.817349  0.842099 -0.921971  0.292938 -0.114815  1.415377   \n",
       "4 -0.728532 -0.812100 -0.670135  0.995545  0.275469 -0.356502  1.852359   \n",
       "\n",
       "         7         8         9         10  \n",
       "0 -0.308078  0.198983  0.129667 -0.044885  \n",
       "1 -0.426512  0.175860 -0.071309 -0.001900  \n",
       "2 -0.309080  0.198882  0.129364 -0.044862  \n",
       "3 -0.427237  0.175869 -0.072653 -0.001771  \n",
       "4 -0.315695  0.198213  0.127363 -0.044710  "
      ]
     },
     "execution_count": 36,
     "metadata": {},
     "output_type": "execute_result"
    }
   ],
   "source": [
    "pc.head()"
   ]
  },
  {
   "cell_type": "code",
   "execution_count": 37,
   "id": "21420b53",
   "metadata": {},
   "outputs": [
    {
     "data": {
      "text/plain": [
       "array([ 21.2 ,  40.06,  52.87,  64.95,  74.1 ,  83.08,  91.18,  98.54,\n",
       "        99.62,  99.94, 100.  ])"
      ]
     },
     "execution_count": 37,
     "metadata": {},
     "output_type": "execute_result"
    }
   ],
   "source": [
    "var = pca.explained_variance_ratio_\n",
    "var1 = np.cumsum(np.round(var,decimals = 4)*100)\n",
    "var1"
   ]
  },
  {
   "cell_type": "markdown",
   "id": "31747a1a",
   "metadata": {},
   "source": [
    "###### Dropping Principal Components with least importance such that more than 90% of the variance is accounted for"
   ]
  },
  {
   "cell_type": "code",
   "execution_count": 38,
   "id": "c780b617",
   "metadata": {},
   "outputs": [
    {
     "data": {
      "text/html": [
       "<div>\n",
       "<style scoped>\n",
       "    .dataframe tbody tr th:only-of-type {\n",
       "        vertical-align: middle;\n",
       "    }\n",
       "\n",
       "    .dataframe tbody tr th {\n",
       "        vertical-align: top;\n",
       "    }\n",
       "\n",
       "    .dataframe thead th {\n",
       "        text-align: right;\n",
       "    }\n",
       "</style>\n",
       "<table border=\"1\" class=\"dataframe\">\n",
       "  <thead>\n",
       "    <tr style=\"text-align: right;\">\n",
       "      <th></th>\n",
       "      <th>0</th>\n",
       "      <th>1</th>\n",
       "      <th>2</th>\n",
       "      <th>3</th>\n",
       "      <th>4</th>\n",
       "      <th>5</th>\n",
       "      <th>6</th>\n",
       "    </tr>\n",
       "  </thead>\n",
       "  <tbody>\n",
       "    <tr>\n",
       "      <th>0</th>\n",
       "      <td>-0.736507</td>\n",
       "      <td>-0.808468</td>\n",
       "      <td>-0.669935</td>\n",
       "      <td>0.997512</td>\n",
       "      <td>0.276076</td>\n",
       "      <td>-0.355352</td>\n",
       "      <td>1.854737</td>\n",
       "    </tr>\n",
       "    <tr>\n",
       "      <th>1</th>\n",
       "      <td>-0.701399</td>\n",
       "      <td>0.817076</td>\n",
       "      <td>0.842193</td>\n",
       "      <td>-0.922385</td>\n",
       "      <td>0.293092</td>\n",
       "      <td>-0.114709</td>\n",
       "      <td>1.415641</td>\n",
       "    </tr>\n",
       "    <tr>\n",
       "      <th>2</th>\n",
       "      <td>-0.735457</td>\n",
       "      <td>-0.808946</td>\n",
       "      <td>-0.669962</td>\n",
       "      <td>0.997253</td>\n",
       "      <td>0.275996</td>\n",
       "      <td>-0.355503</td>\n",
       "      <td>1.854424</td>\n",
       "    </tr>\n",
       "    <tr>\n",
       "      <th>3</th>\n",
       "      <td>-0.699855</td>\n",
       "      <td>0.817349</td>\n",
       "      <td>0.842099</td>\n",
       "      <td>-0.921971</td>\n",
       "      <td>0.292938</td>\n",
       "      <td>-0.114815</td>\n",
       "      <td>1.415377</td>\n",
       "    </tr>\n",
       "    <tr>\n",
       "      <th>4</th>\n",
       "      <td>-0.728532</td>\n",
       "      <td>-0.812100</td>\n",
       "      <td>-0.670135</td>\n",
       "      <td>0.995545</td>\n",
       "      <td>0.275469</td>\n",
       "      <td>-0.356502</td>\n",
       "      <td>1.852359</td>\n",
       "    </tr>\n",
       "    <tr>\n",
       "      <th>...</th>\n",
       "      <td>...</td>\n",
       "      <td>...</td>\n",
       "      <td>...</td>\n",
       "      <td>...</td>\n",
       "      <td>...</td>\n",
       "      <td>...</td>\n",
       "      <td>...</td>\n",
       "    </tr>\n",
       "    <tr>\n",
       "      <th>16421</th>\n",
       "      <td>-1.385649</td>\n",
       "      <td>-0.369576</td>\n",
       "      <td>1.083057</td>\n",
       "      <td>1.034808</td>\n",
       "      <td>-0.613621</td>\n",
       "      <td>0.225565</td>\n",
       "      <td>-1.368637</td>\n",
       "    </tr>\n",
       "    <tr>\n",
       "      <th>16422</th>\n",
       "      <td>-1.437892</td>\n",
       "      <td>-0.342090</td>\n",
       "      <td>1.220686</td>\n",
       "      <td>1.108405</td>\n",
       "      <td>-0.574491</td>\n",
       "      <td>0.185042</td>\n",
       "      <td>-1.099063</td>\n",
       "    </tr>\n",
       "    <tr>\n",
       "      <th>16423</th>\n",
       "      <td>-1.388907</td>\n",
       "      <td>-0.365993</td>\n",
       "      <td>1.076251</td>\n",
       "      <td>1.033890</td>\n",
       "      <td>-0.614661</td>\n",
       "      <td>0.225864</td>\n",
       "      <td>-1.370791</td>\n",
       "    </tr>\n",
       "    <tr>\n",
       "      <th>16424</th>\n",
       "      <td>-1.182873</td>\n",
       "      <td>-0.473091</td>\n",
       "      <td>0.346105</td>\n",
       "      <td>0.663699</td>\n",
       "      <td>-0.815875</td>\n",
       "      <td>0.443608</td>\n",
       "      <td>-2.755738</td>\n",
       "    </tr>\n",
       "    <tr>\n",
       "      <th>16425</th>\n",
       "      <td>1.061190</td>\n",
       "      <td>0.520246</td>\n",
       "      <td>-1.077695</td>\n",
       "      <td>1.898469</td>\n",
       "      <td>-0.007768</td>\n",
       "      <td>-0.391489</td>\n",
       "      <td>1.470061</td>\n",
       "    </tr>\n",
       "  </tbody>\n",
       "</table>\n",
       "<p>16426 rows × 7 columns</p>\n",
       "</div>"
      ],
      "text/plain": [
       "              0         1         2         3         4         5         6\n",
       "0     -0.736507 -0.808468 -0.669935  0.997512  0.276076 -0.355352  1.854737\n",
       "1     -0.701399  0.817076  0.842193 -0.922385  0.293092 -0.114709  1.415641\n",
       "2     -0.735457 -0.808946 -0.669962  0.997253  0.275996 -0.355503  1.854424\n",
       "3     -0.699855  0.817349  0.842099 -0.921971  0.292938 -0.114815  1.415377\n",
       "4     -0.728532 -0.812100 -0.670135  0.995545  0.275469 -0.356502  1.852359\n",
       "...         ...       ...       ...       ...       ...       ...       ...\n",
       "16421 -1.385649 -0.369576  1.083057  1.034808 -0.613621  0.225565 -1.368637\n",
       "16422 -1.437892 -0.342090  1.220686  1.108405 -0.574491  0.185042 -1.099063\n",
       "16423 -1.388907 -0.365993  1.076251  1.033890 -0.614661  0.225864 -1.370791\n",
       "16424 -1.182873 -0.473091  0.346105  0.663699 -0.815875  0.443608 -2.755738\n",
       "16425  1.061190  0.520246 -1.077695  1.898469 -0.007768 -0.391489  1.470061\n",
       "\n",
       "[16426 rows x 7 columns]"
      ]
     },
     "execution_count": 38,
     "metadata": {},
     "output_type": "execute_result"
    }
   ],
   "source": [
    "X_noMulticoll = pc.drop([7,8,9,10], axis = 1)\n",
    "X_noMulticoll"
   ]
  },
  {
   "cell_type": "markdown",
   "id": "8a48c5f8",
   "metadata": {},
   "source": [
    "###### Checking if target variable is appropriate"
   ]
  },
  {
   "cell_type": "code",
   "execution_count": 39,
   "id": "d7a5f079",
   "metadata": {},
   "outputs": [
    {
     "data": {
      "text/plain": [
       "array([1, 0])"
      ]
     },
     "execution_count": 39,
     "metadata": {},
     "output_type": "execute_result"
    }
   ],
   "source": [
    "y.unique()"
   ]
  },
  {
   "cell_type": "markdown",
   "id": "1059dfa4",
   "metadata": {},
   "source": [
    "###### There are only two possible outcomes in target variable. Hence it is a proper logistic regression"
   ]
  },
  {
   "cell_type": "code",
   "execution_count": 40,
   "id": "7a44b0e4",
   "metadata": {},
   "outputs": [
    {
     "data": {
      "text/plain": [
       "((16426, 7), (16426,))"
      ]
     },
     "execution_count": 40,
     "metadata": {},
     "output_type": "execute_result"
    }
   ],
   "source": [
    "X_noMulticoll.shape, y.shape"
   ]
  },
  {
   "cell_type": "code",
   "execution_count": 41,
   "id": "de676823",
   "metadata": {},
   "outputs": [],
   "source": [
    "X_train, X_test, y_train, y_test = train_test_split(X_noMulticoll, y, test_size=0.3, random_state=42, stratify = y)"
   ]
  },
  {
   "cell_type": "code",
   "execution_count": 42,
   "id": "044718fe",
   "metadata": {},
   "outputs": [
    {
     "data": {
      "text/plain": [
       "((11498, 7), (11498,), (4928, 7), (4928,))"
      ]
     },
     "execution_count": 42,
     "metadata": {},
     "output_type": "execute_result"
    }
   ],
   "source": [
    "X_train.shape, y_train.shape, X_test.shape, y_test.shape"
   ]
  },
  {
   "cell_type": "code",
   "execution_count": 43,
   "id": "adfa548c",
   "metadata": {},
   "outputs": [
    {
     "data": {
      "text/html": [
       "<style>#sk-container-id-1 {color: black;background-color: white;}#sk-container-id-1 pre{padding: 0;}#sk-container-id-1 div.sk-toggleable {background-color: white;}#sk-container-id-1 label.sk-toggleable__label {cursor: pointer;display: block;width: 100%;margin-bottom: 0;padding: 0.3em;box-sizing: border-box;text-align: center;}#sk-container-id-1 label.sk-toggleable__label-arrow:before {content: \"▸\";float: left;margin-right: 0.25em;color: #696969;}#sk-container-id-1 label.sk-toggleable__label-arrow:hover:before {color: black;}#sk-container-id-1 div.sk-estimator:hover label.sk-toggleable__label-arrow:before {color: black;}#sk-container-id-1 div.sk-toggleable__content {max-height: 0;max-width: 0;overflow: hidden;text-align: left;background-color: #f0f8ff;}#sk-container-id-1 div.sk-toggleable__content pre {margin: 0.2em;color: black;border-radius: 0.25em;background-color: #f0f8ff;}#sk-container-id-1 input.sk-toggleable__control:checked~div.sk-toggleable__content {max-height: 200px;max-width: 100%;overflow: auto;}#sk-container-id-1 input.sk-toggleable__control:checked~label.sk-toggleable__label-arrow:before {content: \"▾\";}#sk-container-id-1 div.sk-estimator input.sk-toggleable__control:checked~label.sk-toggleable__label {background-color: #d4ebff;}#sk-container-id-1 div.sk-label input.sk-toggleable__control:checked~label.sk-toggleable__label {background-color: #d4ebff;}#sk-container-id-1 input.sk-hidden--visually {border: 0;clip: rect(1px 1px 1px 1px);clip: rect(1px, 1px, 1px, 1px);height: 1px;margin: -1px;overflow: hidden;padding: 0;position: absolute;width: 1px;}#sk-container-id-1 div.sk-estimator {font-family: monospace;background-color: #f0f8ff;border: 1px dotted black;border-radius: 0.25em;box-sizing: border-box;margin-bottom: 0.5em;}#sk-container-id-1 div.sk-estimator:hover {background-color: #d4ebff;}#sk-container-id-1 div.sk-parallel-item::after {content: \"\";width: 100%;border-bottom: 1px solid gray;flex-grow: 1;}#sk-container-id-1 div.sk-label:hover label.sk-toggleable__label {background-color: #d4ebff;}#sk-container-id-1 div.sk-serial::before {content: \"\";position: absolute;border-left: 1px solid gray;box-sizing: border-box;top: 0;bottom: 0;left: 50%;z-index: 0;}#sk-container-id-1 div.sk-serial {display: flex;flex-direction: column;align-items: center;background-color: white;padding-right: 0.2em;padding-left: 0.2em;position: relative;}#sk-container-id-1 div.sk-item {position: relative;z-index: 1;}#sk-container-id-1 div.sk-parallel {display: flex;align-items: stretch;justify-content: center;background-color: white;position: relative;}#sk-container-id-1 div.sk-item::before, #sk-container-id-1 div.sk-parallel-item::before {content: \"\";position: absolute;border-left: 1px solid gray;box-sizing: border-box;top: 0;bottom: 0;left: 50%;z-index: -1;}#sk-container-id-1 div.sk-parallel-item {display: flex;flex-direction: column;z-index: 1;position: relative;background-color: white;}#sk-container-id-1 div.sk-parallel-item:first-child::after {align-self: flex-end;width: 50%;}#sk-container-id-1 div.sk-parallel-item:last-child::after {align-self: flex-start;width: 50%;}#sk-container-id-1 div.sk-parallel-item:only-child::after {width: 0;}#sk-container-id-1 div.sk-dashed-wrapped {border: 1px dashed gray;margin: 0 0.4em 0.5em 0.4em;box-sizing: border-box;padding-bottom: 0.4em;background-color: white;}#sk-container-id-1 div.sk-label label {font-family: monospace;font-weight: bold;display: inline-block;line-height: 1.2em;}#sk-container-id-1 div.sk-label-container {text-align: center;}#sk-container-id-1 div.sk-container {/* jupyter's `normalize.less` sets `[hidden] { display: none; }` but bootstrap.min.css set `[hidden] { display: none !important; }` so we also need the `!important` here to be able to override the default hidden behavior on the sphinx rendered scikit-learn.org. See: https://github.com/scikit-learn/scikit-learn/issues/21755 */display: inline-block !important;position: relative;}#sk-container-id-1 div.sk-text-repr-fallback {display: none;}</style><div id=\"sk-container-id-1\" class=\"sk-top-container\"><div class=\"sk-text-repr-fallback\"><pre>LogisticRegression()</pre><b>In a Jupyter environment, please rerun this cell to show the HTML representation or trust the notebook. <br />On GitHub, the HTML representation is unable to render, please try loading this page with nbviewer.org.</b></div><div class=\"sk-container\" hidden><div class=\"sk-item\"><div class=\"sk-estimator sk-toggleable\"><input class=\"sk-toggleable__control sk-hidden--visually\" id=\"sk-estimator-id-1\" type=\"checkbox\" checked><label for=\"sk-estimator-id-1\" class=\"sk-toggleable__label sk-toggleable__label-arrow\">LogisticRegression</label><div class=\"sk-toggleable__content\"><pre>LogisticRegression()</pre></div></div></div></div></div>"
      ],
      "text/plain": [
       "LogisticRegression()"
      ]
     },
     "execution_count": 43,
     "metadata": {},
     "output_type": "execute_result"
    }
   ],
   "source": [
    "logReg = LogisticRegression()\n",
    "logReg.fit(X_train,y_train)\n"
   ]
  },
  {
   "cell_type": "code",
   "execution_count": 44,
   "id": "ea803a70",
   "metadata": {},
   "outputs": [],
   "source": [
    "y_pred = logReg.predict(X_test)"
   ]
  },
  {
   "cell_type": "code",
   "execution_count": 45,
   "id": "2eca36bd",
   "metadata": {},
   "outputs": [
    {
     "name": "stdout",
     "output_type": "stream",
     "text": [
      "              precision    recall  f1-score   support\n",
      "\n",
      "           0       0.87      0.81      0.84      2464\n",
      "           1       0.82      0.88      0.85      2464\n",
      "\n",
      "    accuracy                           0.84      4928\n",
      "   macro avg       0.84      0.84      0.84      4928\n",
      "weighted avg       0.84      0.84      0.84      4928\n",
      "\n"
     ]
    }
   ],
   "source": [
    "from sklearn.metrics import classification_report\n",
    "print(classification_report(y_test,y_pred))"
   ]
  },
  {
   "cell_type": "markdown",
   "id": "395971d7",
   "metadata": {},
   "source": [
    "###### So we get about 90% accuracy"
   ]
  },
  {
   "cell_type": "code",
   "execution_count": 46,
   "id": "9b3be4c2",
   "metadata": {},
   "outputs": [
    {
     "name": "stdout",
     "output_type": "stream",
     "text": [
      "LogisticRegression() : \n",
      "Training Accuracy :  0.932054796161847\n",
      "Validation Accuracy :  0.9315189046951425\n",
      "\n",
      "XGBClassifier(base_score=None, booster=None, callbacks=None,\n",
      "              colsample_bylevel=None, colsample_bynode=None,\n",
      "              colsample_bytree=None, early_stopping_rounds=None,\n",
      "              enable_categorical=False, eval_metric=None, feature_types=None,\n",
      "              gamma=None, gpu_id=None, grow_policy=None, importance_type=None,\n",
      "              interaction_constraints=None, learning_rate=None, max_bin=None,\n",
      "              max_cat_threshold=None, max_cat_to_onehot=None,\n",
      "              max_delta_step=None, max_depth=None, max_leaves=None,\n",
      "              min_child_weight=None, missing=nan, monotone_constraints=None,\n",
      "              n_estimators=100, n_jobs=None, num_parallel_tree=None,\n",
      "              predictor=None, random_state=None, ...) : \n",
      "Training Accuracy :  0.9991332486420003\n",
      "Validation Accuracy :  0.9834858982332603\n",
      "\n",
      "SVC(probability=True) : \n",
      "Training Accuracy :  0.9661167599734726\n",
      "Validation Accuracy :  0.9653121837578007\n",
      "\n",
      "RandomForestClassifier(criterion='entropy', n_estimators=7, random_state=7) : \n",
      "Training Accuracy :  0.9996226891887481\n",
      "Validation Accuracy :  0.9747784492800219\n",
      "\n"
     ]
    }
   ],
   "source": [
    "models = [LogisticRegression(), XGBClassifier(),\n",
    "          SVC(kernel='rbf', probability=True),\n",
    "          RandomForestClassifier(n_estimators=7,\n",
    "                                 criterion='entropy',\n",
    "                                 random_state=7)]\n",
    " \n",
    "for i in range(len(models)):\n",
    "    models[i].fit(X_train, y_train)\n",
    "    print(f'{models[i]} : ')\n",
    "     \n",
    "    train_preds = models[i].predict_proba(X_train)[:, 1]\n",
    "    print('Training Accuracy : ', ras(y_train, train_preds))\n",
    "     \n",
    "    y_preds = models[i].predict_proba(X_test)[:, 1]\n",
    "    print('Validation Accuracy : ', ras(y_test, y_preds))\n",
    "    print()"
   ]
  },
  {
   "cell_type": "code",
   "execution_count": null,
   "id": "a78cc827",
   "metadata": {},
   "outputs": [],
   "source": []
  },
  {
   "cell_type": "code",
   "execution_count": null,
   "id": "fe428965",
   "metadata": {},
   "outputs": [],
   "source": []
  },
  {
   "cell_type": "code",
   "execution_count": null,
   "id": "37f7481a",
   "metadata": {},
   "outputs": [],
   "source": []
  },
  {
   "cell_type": "code",
   "execution_count": null,
   "id": "331cc3bd",
   "metadata": {},
   "outputs": [],
   "source": []
  },
  {
   "cell_type": "code",
   "execution_count": null,
   "id": "4580250c",
   "metadata": {},
   "outputs": [],
   "source": []
  },
  {
   "cell_type": "code",
   "execution_count": null,
   "id": "22f738b1",
   "metadata": {},
   "outputs": [],
   "source": []
  },
  {
   "cell_type": "code",
   "execution_count": null,
   "id": "4b3ad431",
   "metadata": {},
   "outputs": [],
   "source": []
  },
  {
   "cell_type": "code",
   "execution_count": null,
   "id": "2a0b6417",
   "metadata": {},
   "outputs": [],
   "source": []
  },
  {
   "cell_type": "code",
   "execution_count": null,
   "id": "da8a6d4c",
   "metadata": {},
   "outputs": [],
   "source": []
  },
  {
   "cell_type": "code",
   "execution_count": null,
   "id": "073d5dbf",
   "metadata": {},
   "outputs": [],
   "source": []
  },
  {
   "cell_type": "code",
   "execution_count": null,
   "id": "da0389d3",
   "metadata": {},
   "outputs": [],
   "source": []
  }
 ],
 "metadata": {
  "kernelspec": {
   "display_name": "Python 3 (ipykernel)",
   "language": "python",
   "name": "python3"
  },
  "language_info": {
   "codemirror_mode": {
    "name": "ipython",
    "version": 3
   },
   "file_extension": ".py",
   "mimetype": "text/x-python",
   "name": "python",
   "nbconvert_exporter": "python",
   "pygments_lexer": "ipython3",
   "version": "3.10.9"
  }
 },
 "nbformat": 4,
 "nbformat_minor": 5
}
