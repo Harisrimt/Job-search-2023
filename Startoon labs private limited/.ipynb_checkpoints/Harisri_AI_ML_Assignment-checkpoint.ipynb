{
 "cells": [
  {
   "cell_type": "code",
   "execution_count": null,
   "id": "d5e071d0",
   "metadata": {},
   "outputs": [],
   "source": [
    "def check_weight_formability(W,arr):\n",
    "    if W == 0:\n",
    "        return True\n",
    "    \n",
    "    if arr == []:\n",
    "        return False\n",
    "    \n",
    "    if W == arr[0]:\n",
    "        return True\n",
    "    \n",
    "    if W > arr[0]:\n",
    "        W = W - arr[0]\n",
    "        arr.pop(0)\n",
    "        return check_weight_formability(W, arr)\n",
    "    arr.pop(0)\n",
    "    return check_weight_formability(W, arr)"
   ]
  },
  {
   "cell_type": "code",
   "execution_count": null,
   "id": "3efd749a",
   "metadata": {},
   "outputs": [],
   "source": [
    "W = int(input(\"Please enter the large weight: \"))\n",
    "given_list = []\n",
    "num_ele = int(input(\"Please enter the desired number of smaller weights (less than 12): \"))\n",
    "if num_ele <= 12:\n",
    "    print(\"Please enter the smaller weights: \")\n",
    "    for i in range(0, num_ele):\n",
    "        ele = int(input())\n",
    "        given_list.append(ele)\n",
    "    given_list.sort(reverse = True)\n",
    "    print(check_weight_formability(W,given_list))\n",
    "else:\n",
    "     print(\"You have exceeded maximum number of inputs!!!\")   "
   ]
  },
  {
   "cell_type": "markdown",
   "id": "5f07cb28",
   "metadata": {},
   "source": []
  }
 ],
 "metadata": {
  "kernelspec": {
   "display_name": "Python 3 (ipykernel)",
   "language": "python",
   "name": "python3"
  },
  "language_info": {
   "codemirror_mode": {
    "name": "ipython",
    "version": 3
   },
   "file_extension": ".py",
   "mimetype": "text/x-python",
   "name": "python",
   "nbconvert_exporter": "python",
   "pygments_lexer": "ipython3",
   "version": "3.10.9"
  }
 },
 "nbformat": 4,
 "nbformat_minor": 5
}
